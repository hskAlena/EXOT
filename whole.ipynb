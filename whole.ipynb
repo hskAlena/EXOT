{
 "cells": [
  {
   "cell_type": "code",
   "execution_count": null,
   "metadata": {},
   "outputs": [],
   "source": [
    "# python tracking/train.py --script exot_st1 --config baseline_robot --save_dir . --mode single\n",
    "# python tracking/train.py --script exot_st2 --config baseline_robot --save_dir . --mode single --script_prv exot_st1 --config_prv baseline_robot\n",
    "from lib.utils.box_ops import giou_loss\n",
    "from torch.nn.functional import l1_loss\n",
    "from torch.nn import BCEWithLogitsLoss\n",
    "# train pipeline related\n",
    "from lib.train.trainers import LTRTrainer\n",
    "from lib.train.base_functions import *\n",
    "\n",
    "from lib.models.exot import build_exotst\n",
    "\n",
    "# forward propagation related\n",
    "from lib.train.actors import EXOTActor, EXOTSTActor\n",
    "import importlib"
   ]
  },
  {
   "cell_type": "markdown",
   "metadata": {},
   "source": [
    "https://fredriccliver.medium.com/cant-not-see-axis-label-of-jupyter-notebook-in-the-dark-theme-vscode-df31a3ee121"
   ]
  },
  {
   "cell_type": "code",
   "execution_count": 1,
   "metadata": {},
   "outputs": [
    {
     "name": "stdout",
     "output_type": "stream",
     "text": [
      "/home/ella/projects/mfmot/STARK/data/robot-data\n",
      "31\n",
      "test config:  {'MODEL': {'HEAD_TYPE': 'CORNER', 'NLAYER_HEAD': 3, 'HEAD_ABS': False, 'HIDDEN_DIM': 256, 'NUM_OBJECT_QUERIES': 1, 'POSITION_EMBEDDING': 'sine', 'PREDICT_MASK': False, 'LOSS_TYPE': 'None', 'BACKBONE': {'TYPE': 'resnet50', 'OUTPUT_LAYERS': ['layer3'], 'STRIDE': 16, 'DILATION': False}, 'TRANSFORMER': {'NHEADS': 8, 'DROPOUT': 0.1, 'DIM_FEEDFORWARD': 2048, 'ENC_LAYERS': 6, 'DEC_LAYERS': 6, 'PRE_NORM': False, 'DIVIDE_NORM': False}}, 'TRAIN': {'TRAIN_CLS': True, 'LR': 0.0001, 'WEIGHT_DECAY': 0.0001, 'EPOCH': 50, 'LR_DROP_EPOCH': 40, 'BATCH_SIZE': 16, 'NUM_WORKER': 8, 'OPTIMIZER': ['ADAMW', 'SGD'], 'BACKBONE_MULTIPLIER': 0.1, 'REID_WEIGHT': 3.0, 'EXIT_WEIGHT': 3.0, 'GIOU_WEIGHT': 2.0, 'L1_WEIGHT': 5.0, 'CLS_WEIGHT': 1.0, 'OBJCLS_WEIGHT': 0.2, 'DEEP_SUPERVISION': False, 'FREEZE_BACKBONE_BN': True, 'FREEZE_LAYERS': ['conv1', 'layer1'], 'PRINT_INTERVAL': 10, 'VAL_EPOCH_INTERVAL': 10, 'GRAD_CLIP_NORM': 0.1, 'SCHEDULER': {'TYPE': 'step', 'DECAY_RATE': 0.1}}, 'DATA': {'SAMPLER_MODE': 'trident_pro', 'MEAN': [0.485, 0.456, 0.406], 'STD': [0.229, 0.224, 0.225], 'MAX_SAMPLE_INTERVAL': [200], 'TRAIN': {'DATASETS_NAME': ['ROBOT_train', 'TREK150_train'], 'DATASETS_OBJNUM': [14, 352], 'DATASETS_RATIO': [1, 1], 'SAMPLE_PER_EPOCH': 100000}, 'VAL': {'DATASETS_NAME': ['ROBOT_val', 'TREK150_val'], 'DATASETS_OBJNUM': [14, 352], 'DATASETS_RATIO': [1, 1], 'SAMPLE_PER_EPOCH': 10000}, 'SEARCH': {'NUMBER': 1, 'SIZE': 320, 'FACTOR': 5.0, 'CENTER_JITTER': 4.5, 'SCALE_JITTER': 0.5}, 'TEMPLATE': {'NUMBER': 2, 'SIZE': 128, 'FACTOR': 2.0, 'CENTER_JITTER': 0, 'SCALE_JITTER': 0}}, 'TEST': {'TEMPLATE_FACTOR': 2.0, 'TEMPLATE_SIZE': 128, 'SEARCH_FACTOR': 5.0, 'SEARCH_SIZE': 320, 'EPOCH': 50, 'UPDATE_INTERVALS': {'LASOT': [200], 'GOT10K_TEST': [200], 'ROBOT_TEST': [10], 'TREK150_TEST': [10], 'TRACKINGNET': [200], 'VOT20': [200], 'VOT20LT': [200]}}}\n",
      "head channel: 256\n",
      "Update interval is:  [10]\n"
     ]
    },
    {
     "name": "stderr",
     "output_type": "stream",
     "text": [
      "[W accumulate_grad.h:185] Warning: grad and param do not obey the gradient layout contract. This is not an error, but may impair performance.\n",
      "grad.sizes() = [256, 1024, 1, 1], strides() = [1024, 1, 1, 1]\n",
      "param.sizes() = [256, 1024, 1, 1], strides() = [1024, 1, 1024, 1024] (function operator())\n"
     ]
    },
    {
     "name": "stdout",
     "output_type": "stream",
     "text": [
      "NEGATIVE NUM  144.0\n",
      "NEGATIVE INDEX  (array([ 979,  980,  981,  982,  983,  984,  985,  986,  987,  988,  989,\n",
      "        990,  991,  992,  993,  994,  995,  996,  997,  998,  999, 1000,\n",
      "       1001, 1002, 1003, 1004, 1005, 1006, 1007, 1008, 1009, 1010, 1011,\n",
      "       1012, 1013, 1014, 1015, 1016, 1017, 1018, 1019, 1020, 1021, 1022,\n",
      "       1023, 1024, 1025, 1026, 1027, 1028, 1029, 1030, 1031, 1032, 1033,\n",
      "       1034, 1035, 1036, 1037, 1038, 1039, 1040, 1041, 1042, 1043, 1044,\n",
      "       1045, 1046, 1047, 1048, 1049, 1050, 1051, 1052, 1053, 1054, 1055,\n",
      "       1056, 1057, 1058, 1059, 1060, 1061, 1062, 1063, 1064, 1065, 1066,\n",
      "       1067, 1068, 1069, 1070, 1071, 1072, 1073, 1074, 1075, 1076, 1077,\n",
      "       1078, 1079, 1080, 1081, 1082, 1083, 1084, 1085, 1086, 1087, 1088,\n",
      "       1089, 1090, 1091, 1092, 1093, 1094, 1095, 1096, 1097, 1098, 1099,\n",
      "       1100, 1101, 1102, 1103, 1104, 1105, 1106, 1107, 1108, 1109, 1110,\n",
      "       1111, 1112, 1113, 1114, 1115, 1116, 1117, 1118, 1119, 1120, 1121,\n",
      "       1122]),)\n",
      "(1027, 1) (144, 1)\n",
      "3.329591751098633 2.109161853790283\n",
      "THRESHOLD confidence out [2.28014517]\n",
      "{'generalized_odin': {'TNR': 1.0, 'AUROC': 0.997444011684518}}\n"
     ]
    }
   ],
   "source": [
    "import torch\n",
    "import matplotlib.pyplot as plt\n",
    "import numpy as np\n",
    "# from lib.pylight import LitEXOTActor, LitEXOTSTActor, LitODINActor, RobotDataModule\n",
    "# from lib.models.exot import build_exotst_odin\n",
    "import os\n",
    "os.environ['CUDA_VISIBLE_DEVICES'] = '2'\n",
    "from lib.test.evaluation import get_dataset\n",
    "from lib.test.tracker.exotst_tracker import EXOTSTTracker\n",
    "from collections import OrderedDict\n",
    "import time\n",
    "from lib.utils.lmdb_utils import decode_img\n",
    "import argparse\n",
    "import importlib\n",
    "import cv2 as cv\n",
    "from pl_prac import Settings\n",
    "import tqdm\n",
    "\n",
    "from cal_eps import parse_args_jup, test_tracker\n",
    "\n",
    "epsilon = 0.005\n",
    "args = [\"exot_st\", \"baseline_mix\", \"--dataset\", \"robot_test\", \"--threads\", \"0\", \"--num_gpus\", \"1\"]\n",
    "args = parse_args_jup(args)\n",
    "\n",
    "import multiprocessing\n",
    "multiprocessing.set_start_method('spawn', force=True)\n",
    "num_gpu = args.num_gpus\n",
    "try:\n",
    "    worker_name = multiprocessing.current_process().name\n",
    "    worker_id = int(worker_name[worker_name.find('-') + 1:]) - 1\n",
    "    gpu_id = worker_id % num_gpu\n",
    "    #torch.cuda.set_device(gpu_id)\n",
    "except:\n",
    "    pass\n",
    "\n",
    "vispred, visconf, exit_gt, objconf, results, objlabel_gt, objlabel_pred, objpred = \\\n",
    "    test_tracker(args.dataset_name, \"exotst_testparam\", args.tracker_param, epsilon)\n",
    "\n",
    "import matplotlib.pyplot as plt\n",
    "from matplotlib import style\n",
    "style.use('dark_background')\n",
    "# plt.plot(vispred)\n",
    "# plt.plot(visconf)\n",
    "# plt.plot(exit_gt)\n",
    "# plt.plot(objconf)\n",
    "print(results)\n",
    "# plt.plot(objlabel_gt)\n",
    "# plt.plot(objlabel_pred)"
   ]
  },
  {
   "cell_type": "code",
   "execution_count": 2,
   "metadata": {},
   "outputs": [
    {
     "data": {
      "text/plain": [
       "[<matplotlib.lines.Line2D at 0x7f06b03e3a90>]"
      ]
     },
     "execution_count": 2,
     "metadata": {},
     "output_type": "execute_result"
    },
    {
     "data": {
      "image/png": "[encoded data removed]",
      "text/plain": [
       "<Figure size 432x288 with 1 Axes>"
      ]
     },
     "metadata": {},
     "output_type": "display_data"
    }
   ],
   "source": [
    "plt.plot(vispred)\n"
   ]
  },
  {
   "cell_type": "code",
   "execution_count": 3,
   "metadata": {},
   "outputs": [
    {
     "data": {
      "text/plain": [
       "[<matplotlib.lines.Line2D at 0x7f06b02ffe50>]"
      ]
     },
     "execution_count": 3,
     "metadata": {},
     "output_type": "execute_result"
    },
    {
     "data": {
      "image/png": "[encoded data removed]",
      "text/plain": [
       "<Figure size 432x288 with 1 Axes>"
      ]
     },
     "metadata": {},
     "output_type": "display_data"
    }
   ],
   "source": [
    "plt.plot(visconf)\n"
   ]
  },
  {
   "cell_type": "code",
   "execution_count": 4,
   "metadata": {},
   "outputs": [
    {
     "data": {
      "text/plain": [
       "[<matplotlib.lines.Line2D at 0x7f06b03a9190>]"
      ]
     },
     "execution_count": 4,
     "metadata": {},
     "output_type": "execute_result"
    },
    {
     "data": {
      "image/png": "[encoded data removed]",
      "text/plain": [
       "<Figure size 432x288 with 1 Axes>"
      ]
     },
     "metadata": {},
     "output_type": "display_data"
    }
   ],
   "source": [
    "plt.plot(exit_gt)\n"
   ]
  },
  {
   "cell_type": "code",
   "execution_count": 5,
   "metadata": {},
   "outputs": [
    {
     "data": {
      "text/plain": [
       "[<matplotlib.lines.Line2D at 0x7f06b0509510>]"
      ]
     },
     "execution_count": 5,
     "metadata": {},
     "output_type": "execute_result"
    },
    {
     "data": {
      "image/png": "[encoded data removed]",
      "text/plain": [
       "<Figure size 432x288 with 1 Axes>"
      ]
     },
     "metadata": {},
     "output_type": "display_data"
    }
   ],
   "source": [
    "plt.plot(objconf)\n",
    "#print(results)\n"
   ]
  },
  {
   "cell_type": "code",
   "execution_count": 9,
   "metadata": {},
   "outputs": [
    {
     "name": "stdout",
     "output_type": "stream",
     "text": [
      "357\n"
     ]
    },
    {
     "data": {
      "image/png": "[encoded data removed]",
      "text/plain": [
       "<Figure size 432x288 with 1 Axes>"
      ]
     },
     "metadata": {},
     "output_type": "display_data"
    }
   ],
   "source": [
    "plt.plot(objlabel_gt)\n",
    "print(objlabel_gt[0])"
   ]
  },
  {
   "cell_type": "code",
   "execution_count": 7,
   "metadata": {},
   "outputs": [
    {
     "data": {
      "text/plain": [
       "[<matplotlib.lines.Line2D at 0x7f06b051a810>]"
      ]
     },
     "execution_count": 7,
     "metadata": {},
     "output_type": "execute_result"
    },
    {
     "data": {
      "image/png": "[encoded data removed]",
      "text/plain": [
       "<Figure size 432x288 with 1 Axes>"
      ]
     },
     "metadata": {},
     "output_type": "display_data"
    }
   ],
   "source": [
    "plt.plot(objlabel_pred)"
   ]
  },
  {
   "cell_type": "code",
   "execution_count": 10,
   "metadata": {},
   "outputs": [
    {
     "name": "stdout",
     "output_type": "stream",
     "text": [
      "(array([ 816,  817,  818,  824,  827,  828,  829,  830,  831,  833,  834,\n",
      "        835,  837,  839,  840,  841,  842,  843,  844,  845,  846,  847,\n",
      "        848,  849,  850,  851,  852,  853,  854,  855,  856,  858,  862,\n",
      "        863,  864,  865,  866,  867,  868,  869,  870,  871,  872,  873,\n",
      "        874,  876,  877,  878,  879,  880,  881,  924,  925,  931,  934,\n",
      "        935,  936,  937,  938,  939,  940,  941,  942,  943,  944,  945,\n",
      "        946,  947,  948,  949,  950,  951,  952,  953,  955,  956,  957,\n",
      "        958,  959,  960,  961,  962,  963,  965,  967,  968,  969,  970,\n",
      "        972,  976,  984,  985, 1032, 1083, 1116, 1117, 1120, 1121, 1122]),)\n"
     ]
    },
    {
     "data": {
      "image/png": "[encoded data removed]",
      "text/plain": [
       "<Figure size 432x288 with 1 Axes>"
      ]
     },
     "metadata": {},
     "output_type": "display_data"
    }
   ],
   "source": [
    "plt.plot(objpred)\n",
    "print(np.nonzero(objpred==0))"
   ]
  },
  {
   "cell_type": "markdown",
   "metadata": {},
   "source": [
    "979,  980,  981,  982,  983,  984,  985,  986,  987,  988,  989,\n",
    "        990,  991,  992,  993,  994,  995,  996,  997,  998,  999, 1000,\n",
    "       1001, 1002, 1003, 1004, 1005, 1006, 1007, 1008, 1009, 1010, 1011,\n",
    "       1012, 1013, 1014, 1015, 1016, 1017, 1018, 1019, 1020, 1021, 1022,\n",
    "       1023, 1024, 1025, 1026, 1027, 1028, 1029, 1030, 1031, 1032, 1033,\n",
    "       1034, 1035, 1036, 1037, 1038, 1039, 1040, 1041, 1042, 1043, 1044,\n",
    "       1045, 1046, 1047, 1048, 1049, 1050, 1051, 1052, 1053, 1054, 1055,\n",
    "       1056, 1057, 1058, 1059, 1060, 1061, 1062, 1063, 1064, 1065, 1066,\n",
    "       1067, 1068, 1069, 1070, 1071, 1072, 1073, 1074, 1075, 1076, 1077,\n",
    "       1078, 1079, 1080, 1081, 1082, 1083, 1084, 1085, 1086, 1087, 1088,\n",
    "       1089, 1090, 1091, 1092, 1093, 1094, 1095, 1096, 1097, 1098, 1099,\n",
    "       1100, 1101, 1102, 1103, 1104, 1105, 1106, 1107, 1108, 1109, 1110,\n",
    "       1111, 1112, 1113, 1114, 1115, 1116, 1117, 1118, 1119, 1120, 1121,\n",
    "       1122"
   ]
  },
  {
   "cell_type": "code",
   "execution_count": null,
   "metadata": {},
   "outputs": [],
   "source": [
    "import torch\n",
    "from pl_prac import Settings\n",
    "checkpoint = torch.load(f\"checkpoints/train/exot_st2/baseline_mix_fold_0/EXOTST_epepoch=0.pth.tar\", map_location='cpu')"
   ]
  },
  {
   "cell_type": "code",
   "execution_count": null,
   "metadata": {},
   "outputs": [],
   "source": [
    "checkpoint['net'].keys()"
   ]
  },
  {
   "cell_type": "code",
   "execution_count": null,
   "metadata": {},
   "outputs": [],
   "source": [
    "from lib.models.exot import build_exotst\n",
    "from pl_prac import *\n",
    "import torch\n",
    "from pl_prac import Settings\n",
    "args = parse_args_jup(['--script', 'exot_st2', '--config', 'baseline_mix', '--save_dir', '.', '--mode', 'single', '--script_prv', 'exot_st1', '--config_prv', 'baseline_mix'])\n",
    "settings = Settings()\n",
    "cfg = settings.set_args(args)\n",
    "net = build_exotst(cfg)  "
   ]
  },
  {
   "cell_type": "code",
   "execution_count": null,
   "metadata": {},
   "outputs": [],
   "source": [
    "net"
   ]
  },
  {
   "cell_type": "code",
   "execution_count": null,
   "metadata": {},
   "outputs": [],
   "source": [
    "import torch\n",
    "newone = torch.nn.Sequential(net.backbone, \n",
    "net.transformer,\n",
    "net.box_head,\n",
    "net.query_embed,\n",
    "net.bottleneck,\n",
    "net.cls_head,\n",
    "net.objcls_head.layers,\n",
    "net.objcls_head.h)\n",
    "\n",
    "new_model = torch.nn.Sequential(*(list(net.children())[:-1]))\n",
    "new_model"
   ]
  },
  {
   "cell_type": "code",
   "execution_count": null,
   "metadata": {},
   "outputs": [],
   "source": [
    "newone"
   ]
  },
  {
   "cell_type": "code",
   "execution_count": null,
   "metadata": {},
   "outputs": [],
   "source": [
    "loss = torch.nn.CrossEntropyLoss(reduction='none')\n",
    "loss2 = torch.nn.CrossEntropyLoss()\n",
    "input = torch.randn(3, 5, requires_grad=True)\n",
    "target = torch.empty(3, dtype=torch.long).random_(5)\n",
    "output = loss(input, target)\n",
    "output2 = loss2(input, target)\n",
    "a = torch.tensor([0,1,0])\n",
    "print(input, target, output, output*(1-a))\n",
    "print(output2, torch.mean(output))"
   ]
  },
  {
   "cell_type": "markdown",
   "metadata": {},
   "source": [
    "https://stackoverflow.com/questions/52468956/how-do-i-visualize-a-net-in-pytorch"
   ]
  },
  {
   "cell_type": "code",
   "execution_count": null,
   "metadata": {},
   "outputs": [],
   "source": [
    "import torch\n",
    "import matplotlib.pyplot as plt\n",
    "import numpy as np\n",
    "# from lib.pylight import LitEXOTActor, LitEXOTSTActor, LitODINActor, RobotDataModule\n",
    "# from lib.models.exot import build_exotst_odin\n",
    "\n",
    "from lib.test.evaluation import get_dataset\n",
    "from lib.test.tracker.exotst_tracker import EXOTSTTracker\n",
    "from collections import OrderedDict\n",
    "import time\n",
    "from lib.utils.lmdb_utils import decode_img\n",
    "import argparse\n",
    "import importlib\n",
    "import cv2 as cv\n",
    "from pl_prac import Settings\n",
    "\n",
    "\n",
    "epsilon_grid = [0.0025, 0.005, 0.01, 0.02, 0.04, 0.08]\n",
    "mean_scores = {}\n",
    "\n",
    "def parse_args(args):\n",
    "    parser = argparse.ArgumentParser(description='Run tracker on sequence or dataset.')\n",
    "    parser.add_argument('tracker_name', type=str, help='Name of tracking method.')\n",
    "    parser.add_argument('tracker_param', type=str, help='Name of config file.')\n",
    "    parser.add_argument('--runid', type=int, default=None, help='The run id.')\n",
    "    parser.add_argument('--dataset_name', type=str, default='otb', help='Name of dataset (otb, nfs, uav, tpl, vot, tn, gott, gotv, lasot).')\n",
    "    parser.add_argument('--sequence', type=str, default=None, help='Sequence number or name.')\n",
    "    parser.add_argument('--debug', type=int, default=0, help='Debug level.')\n",
    "    parser.add_argument('--threads', type=int, default=0, help='Number of threads.')\n",
    "    parser.add_argument('--num_gpus', type=int, default=2)\n",
    "\n",
    "    args = parser.parse_args(args)\n",
    "    return args\n",
    "\n",
    "def run_tracker(dataset_name, name, parameter_name, epsilon):\n",
    "    dataset = get_dataset(dataset_name)\n",
    "    print(len(dataset))\n",
    "    for seq in dataset:\n",
    "        print(seq)\n",
    "        params = get_parameters(name, parameter_name)\n",
    "        # print(\"PARAMSS\", params)\n",
    "\n",
    "        # Get init information\n",
    "        init_info = seq.init_info()\n",
    "\n",
    "        tracker = EXOTSTTracker(params, dataset_name)\n",
    "\n",
    "        output = {'target_bbox': [],\n",
    "                  'time': []}\n",
    "        if tracker.params.save_all_boxes:\n",
    "            output['all_boxes'] = []\n",
    "            output['all_scores'] = []\n",
    "\n",
    "        # Initialize\n",
    "        image = _read_image(seq.frames[0])\n",
    "\n",
    "        start_time = time.time()\n",
    "        out = tracker.initialize(image, init_info)\n",
    "        if out is None:\n",
    "            out = {}\n",
    "\n",
    "        prev_output = OrderedDict(out)\n",
    "        init_default = {'target_bbox': init_info.get('init_bbox'),\n",
    "                        'time': time.time() - start_time}\n",
    "        if tracker.params.save_all_boxes:\n",
    "            init_default['all_boxes'] = out['all_boxes']\n",
    "            init_default['all_scores'] = out['all_scores']\n",
    "\n",
    "        _store_outputs(out, output, init_default)\n",
    "\n",
    "        for frame_num, frame_path in enumerate(seq.frames[1:], start=1):\n",
    "            image = _read_image(frame_path)\n",
    "\n",
    "            start_time = time.time()\n",
    "\n",
    "            info = seq.frame_info(frame_num)\n",
    "            info['previous_output'] = prev_output\n",
    "\n",
    "            out = tracker.odin_track(image, epsilon, info)\n",
    "            prev_output = OrderedDict(out)\n",
    "            _store_outputs(out, output, {'time': time.time() - start_time})\n",
    "        \n",
    "        for key in ['target_bbox', 'all_boxes', 'all_scores']:\n",
    "            if key in output and len(output[key]) <= 1:\n",
    "                output.pop(key)\n",
    "\n",
    "def _store_outputs(tracker_out: dict, output, defaults=None):\n",
    "    defaults = {} if defaults is None else defaults\n",
    "    for key in output.keys():\n",
    "        val = tracker_out.get(key, defaults.get(key, None))\n",
    "        if key in tracker_out or val is not None:\n",
    "            output[key].append(val)\n",
    "\n",
    "\n",
    "def _read_image(image_file: str):\n",
    "    if isinstance(image_file, str):\n",
    "        im = cv.imread(image_file)\n",
    "        return cv.cvtColor(im, cv.COLOR_BGR2RGB)\n",
    "    elif isinstance(image_file, list) and len(image_file) == 2:\n",
    "        return decode_img(image_file[0], image_file[1])\n",
    "    else:\n",
    "        raise ValueError(\"type of image_file should be str or list\")\n",
    "\n",
    "def get_parameters(name, parameter_name):\n",
    "    \"\"\"Get parameters.\"\"\"\n",
    "    param_module = importlib.import_module('lib.test.parameter.{}'.format(name))\n",
    "    params = param_module.parameters(parameter_name)\n",
    "    return params\n",
    "\n",
    "\n",
    "args = parse_args([\"exot_st\", \"baseline_mix\", \"--dataset\", \"robot_test\", \"--threads\", \"0\", \"--num_gpus\", \"1\"])\n",
    "\n",
    "import multiprocessing\n",
    "multiprocessing.set_start_method('spawn', force=True)\n",
    "num_gpu = args.num_gpus\n",
    "try:\n",
    "    worker_name = multiprocessing.current_process().name\n",
    "    worker_id = int(worker_name[worker_name.find('-') + 1:]) - 1\n",
    "    gpu_id = worker_id % num_gpu\n",
    "    #torch.cuda.set_device(gpu_id)\n",
    "except:\n",
    "    pass\n",
    "\n",
    "for epsilon in epsilon_grid:\n",
    "    mean_scores[epsilon] = run_tracker(args.dataset_name, \"exotst_testparam\", args.tracker_param, epsilon)\n",
    "\n",
    "best_epsilon = min(mean_scores, key=(lambda key: mean_scores[key]))\n",
    "print(f\"Epsilon: {best_epsilon / 2.}\")"
   ]
  },
  {
   "cell_type": "code",
   "execution_count": null,
   "metadata": {},
   "outputs": [],
   "source": [
    "torch.random.set_seed(42)\n",
    "np.random.seed(42)\n",
    "checkpoint = torch.load(\"checkpoints/train/exot_st2/baseline_mix_fold_0_5/EXOTST_epoch=30.pth.tar\", map_location='cpu')\n",
    "net = build_exotst_odin(cfg) \n",
    "net.load_state_dict(checkpoint['net'], strict=False)\n",
    "net.eval()\n",
    "\n",
    "\n",
    "\n",
    "model = LitODINActor(cfg, settings, loss_type=cfg.MODEL.LOSS_TYPE, objective=objective, loss_weight = loss_weight, lr=cfg.TRAIN.LR) \n",
    "# checkpoint = torch.load(f\"checkpoints/train/exot_st1/baseline_mix_fold{k}/EXOTST_epepoch=0.pth.tar\", map_location='cpu')\n",
    "model = LitODINActor.load_from_checkpoint(f\"checkpoints/train/{args.script_prv}/{args.config_prv}_fold_0/EXOTST_epepoch=23.pth.tar\", strict=False)\n",
    "model.re_load(cfg, settings, loss_type=cfg.MODEL.LOSS_TYPE, objective=objective, loss_weight = loss_weight, lr=cfg.TRAIN.LR)\n",
    "\n",
    "robot_data = RobotDataModule(data_dir='data/robot-data/', batch_size=cfg.TRAIN.BATCH_SIZE, kfoldness = False, test_size=0.4)\n",
    "robot_data.fill_state(cfg, settings)\n",
    "\n",
    "BATCH_SIZE = 128\n",
    "SAMPLES_PERTURB = 1000\n",
    "\n",
    "# perturb_samples = x_test[:SAMPLES_PERTURB].astype(\"float32\")\n",
    "# perturb_ds = tf.data.Dataset.from_tensor_slices(perturb_samples).batch(BATCH_SIZE)\n",
    "\n",
    "# scorer = tf.keras.Model(model.input, model.layers[-3].output)\n",
    "# Grid as defined in Section 3.2.\n",
    "epsilon_grid = [0.0025, 0.005, 0.01, 0.02, 0.04, 0.08]\n",
    "\n",
    "def perturb_images(model, epsilon):\n",
    "    batch_wise_means = []\n",
    "    \n",
    "    for images in perturb_ds:\n",
    "        test_ds_var = tf.Variable(images, trainable=True)\n",
    "        \n",
    "        with tf.GradientTape() as tape:\n",
    "            # Calculate the scores.\n",
    "            tape.watch(test_ds_var)\n",
    "            logits = model(test_ds_var, training=False)\n",
    "            loss = torch.amax(logits, axis=1)\n",
    "            loss = -torch.mean(loss)\n",
    "\n",
    "        # Calculate the gradients of the scores with respect to the inputs.\n",
    "        gradients = tape.gradient(loss, test_ds_var)\n",
    "        gradients = torch.ge(gradients, 0)\n",
    "        gradients = gradients.to(torch.float32)\n",
    "        gradients = (gradients - 0.5) * 2\n",
    "\n",
    "        # Perturb the inputs and derive new mean score.\n",
    "        # test_ds_var.assign_add(epsilon * gradients)\n",
    "        static_tensor = torch.as_tensor(test_ds_var)\n",
    "        static_tensor = static_tensor - epsilon * gradients\n",
    "        static_tensor = torch.clamp(static_tensor, 0., 255.)\n",
    "        \n",
    "        new_scores = model.predict(static_tensor)\n",
    "        new_scores = -torch.amax(new_scores, dim=1)\n",
    "        new_mean_score = torch.mean(new_scores).numpy()\n",
    "        batch_wise_means.append(new_mean_score)\n",
    "    \n",
    "    return batch_wise_means\n",
    "\n",
    "mean_scores = {}\n",
    "\n",
    "for epsilon in epsilon_grid:\n",
    "    mean_scores[epsilon] = np.mean(perturb_images(scorer, epsilon))\n",
    "\n",
    "best_epsilon = min(mean_scores, key=(lambda key: mean_scores[key]))\n",
    "print(f\"Epsilon: {best_epsilon / 2.}\")"
   ]
  },
  {
   "cell_type": "markdown",
   "metadata": {},
   "source": [
    "https://discuss.pytorch.org/t/batch-normalization-disambiguation/42391\n",
    "\n",
    "https://stackoverflow.com/questions/64856195/what-is-tape-based-autograd-in-pytorch\n",
    "\n",
    "https://pytorch-lightning.readthedocs.io/en/stable/extensions/loops.html\n",
    "\n",
    "https://docs.wandb.ai/ref/app/features/panels/line-plot"
   ]
  },
  {
   "cell_type": "code",
   "execution_count": null,
   "metadata": {},
   "outputs": [],
   "source": [
    "import torch\n",
    "N, C, H, W = 10, 1, 24, 24\n",
    "x = torch.randn(N, C, H, W)\n",
    "\n",
    "bn2d = torch.nn.BatchNorm2d(1)\n",
    "bn1d = torch.nn.BatchNorm1d(1)\n",
    "ln = torch.nn.Linear(24,12)\n",
    "\n",
    "with torch.no_grad():\n",
    "    bn2d.weight = bn1d.weight\n",
    "    bn2d.bias = bn1d.bias\n",
    "\n",
    "# out = ln(x)\n",
    "# print(out.shape)\n",
    "print(x)\n",
    "output2d = bn2d(x)\n",
    "output1d = bn1d(x.view(N, C, -1))\n",
    "print(output2d)\n",
    "print(output1d)\n",
    "print((output2d.view(N, C, -1) == output1d).all())\n",
    "# > tensor(1, dtype=torch.uint8)"
   ]
  },
  {
   "cell_type": "code",
   "execution_count": null,
   "metadata": {},
   "outputs": [],
   "source": [
    "config_module = importlib.import_module(\"lib.config.%s.config\" % settings.script_name)\n",
    "cfg = config_module.cfg\n",
    "config_module.update_config_from_file(settings.cfg_file)\n",
    "update_settings(settings, cfg)\n",
    "\n",
    "loader_train, loader_val = build_dataloaders(cfg, settings)\n",
    "\n",
    "net = build_exotst(cfg)"
   ]
  },
  {
   "cell_type": "code",
   "execution_count": null,
   "metadata": {},
   "outputs": [],
   "source": [
    "objective = {'giou': giou_loss, 'l1': l1_loss, 'joint': l1_loss, 'reId': l1_loss, 'exit_top': BCEWithLogitsLoss(), 'exit_bottom': l1_loss}\n",
    "\n",
    "loss_weight = {'giou': cfg.TRAIN.GIOU_WEIGHT, 'l1': cfg.TRAIN.L1_WEIGHT, 'reId': cfg.TRAIN.REID_WEIGHT, 'exit': cfg.TRAIN.EXIT_WEIGHT}\n",
    "\n",
    "# loss_weight = {'giou': cfg.TRAIN.GIOU_WEIGHT, 'l1': cfg.TRAIN.L1_WEIGHT}\n",
    "actor = EXOTActor(net=net, objective=objective, loss_weight=loss_weight, settings=settings, loss_type=cfg.MODEL.LOSS_TYPE)\n"
   ]
  },
  {
   "cell_type": "code",
   "execution_count": null,
   "metadata": {},
   "outputs": [],
   "source": [
    "# Optimizer, parameters, and learning rates\n",
    "optimizer, lr_scheduler = get_optimizer_scheduler(net, cfg)\n",
    "use_amp = getattr(cfg.TRAIN, \"AMP\", False)\n",
    "trainer = LTRTrainer(actor, [loader_train, loader_val], optimizer, settings, lr_scheduler, use_amp=use_amp)\n",
    "\n",
    "trainer.train(cfg.TRAIN.EPOCH, load_latest=True, fail_safe=True)\n"
   ]
  },
  {
   "cell_type": "code",
   "execution_count": null,
   "metadata": {},
   "outputs": [],
   "source": []
  }
 ],
 "metadata": {
  "kernelspec": {
   "display_name": "Python 3.7.11 ('deformable_detr')",
   "language": "python",
   "name": "python3"
  },
  "language_info": {
   "codemirror_mode": {
    "name": "ipython",
    "version": 3
   },
   "file_extension": ".py",
   "mimetype": "text/x-python",
   "name": "python",
   "nbconvert_exporter": "python",
   "pygments_lexer": "ipython3",
   "version": "3.7.11"
  },
  "orig_nbformat": 4,
  "vscode": {
   "interpreter": {
    "hash": "9ab99f9e7a4994d9a514462648dcc9cf2c1ee60ca8354c67de736bf242c155aa"
   }
  }
 },
 "nbformat": 4,
 "nbformat_minor": 2
}
